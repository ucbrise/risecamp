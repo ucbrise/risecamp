{
 "cells": [
  {
   "cell_type": "markdown",
   "metadata": {},
   "source": [
    "# PyWren RISECamp, 2017"
   ]
  },
  {
   "cell_type": "markdown",
   "metadata": {},
   "source": [
    "Welcome to the hands-on tutorial for PyWren.\n",
    "\n",
    "This tutorial consists of a set of exercises that will have you working directly with PyWren:\n",
    "- basic exercises that introduce you to PyWren APIs (covered in this notebook)\n",
    "- data analysis on a wikipedia dataset (see analyze-wikipedia.ipynb)\n",
    "- matrix multiplication with PyWren (see matrix.ipynb)\n",
    "- hyperparameter optimization (see hyperparameter-optimization.ipynb)\n",
    "\n",
    "\n"
   ]
  },
  {
   "cell_type": "markdown",
   "metadata": {},
   "source": [
    "## Introduction to PyWren\n",
    "\n",
    "(You can find solutions for this notebook at:\n",
    "https://github.com/ucbrise/risecamp/tree/master/pywren/solution/pywren-intro-solution.ipynb)\n",
    "\n",
    "For this tutorial, we have already installed PyWren in the docker container where this jupyter notebook is running.\n",
    "PyWren provides a command line tool that provides basic functionalities for creating AWS IAM roles, configuring PyWren environment, deploying/updating Lambda functions, etc. We have also done that for you.\n",
    "\n",
    "Before we go into the exercises, let's use the command line tool to test if PyWren works properly. \n",
    "\n",
    "**Run the cell below (select the cell, click Cell -> Run Cells or use Ctrl + Enter).**\n",
    "\n",
    "If PyWren is correctly installed, you should see ***`function returned: Hello world`*** after a few seconds."
   ]
  },
  {
   "cell_type": "code",
   "execution_count": null,
   "metadata": {
    "collapsed": true
   },
   "outputs": [],
   "source": [
    "!pywren test_function"
   ]
  },
  {
   "cell_type": "markdown",
   "metadata": {},
   "source": [
    "The above command essentially invokes a PyWren task that executes on AWS Lambda. The task simply returns `Hello world` back to our PyWren host. We'll show you how to do exactly that in a minute.\n",
    "\n",
    "First and foremost, let's create a PyWren **Executor** that we will use throughput this notebook."
   ]
  },
  {
   "cell_type": "code",
   "execution_count": null,
   "metadata": {
    "collapsed": true
   },
   "outputs": [],
   "source": [
    "import pywren\n",
    "pwex = pywren.default_executor()"
   ]
  },
  {
   "cell_type": "markdown",
   "metadata": {},
   "source": [
    "## 1. call_async() -- PyWren's single invocation API\n",
    "\n",
    "A PyWren Executor exposes two main APIs for remote execution, the first one being ***call_async()***, which runs a single PyWren task on AWS Lambda. `call_async()` takes two parameters: a user-provided function and a paramter for the function. \n",
    "\n",
    "Once called, it returns a ***future*** object that allows you to query the task status, get ***result()***, etc.\n",
    "\n",
    "***Exercise:*** Modify the code below to get correct result from an execution."
   ]
  },
  {
   "cell_type": "code",
   "execution_count": null,
   "metadata": {
    "collapsed": true,
    "scrolled": false
   },
   "outputs": [],
   "source": [
    "# this is the user-defined function that we will pass to call_async()\n",
    "def hello_world(param):\n",
    "    if param == 42:\n",
    "        return \"Hello world!\"\n",
    "\n",
    "# once called, PyWren executes the user function with the parameter on AWS Lambda and returns a future object\n",
    "future = pwex.call_async(hello_world, None)\n",
    "# we can call result() to fetch output of execution\n",
    "print(future.result())\n",
    "# check if result is correct\n",
    "assert future.result() == 'Hello world!'"
   ]
  },
  {
   "cell_type": "markdown",
   "metadata": {},
   "source": [
    "## 2. map() -- parallel execution in the cloud\n",
    "The above example executes a single function once in the cloud. This is pretty neat, but pywren really shines when we want to run functions multiple times in parallel.\n",
    "To do this, we can use PyWren executor's second API: ***map()***. `map()` allows users to call a function over multiple parameters, just like the `map()` Python API.\n",
    "\n",
    "In Python, the `map()` API applies the same function to each item in an iterable. The returned object can then be passed to `list()` or `set()` to obtain the results. For example: "
   ]
  },
  {
   "cell_type": "code",
   "execution_count": null,
   "metadata": {
    "collapsed": true
   },
   "outputs": [],
   "source": [
    "param_list = [0, 1, 2, 3, 4, 5, 6, 7, 8, 9]\n",
    "def square(param):\n",
    "    return param * param\n",
    "\n",
    "results_with_python_map = map(square, param_list)\n",
    "print(results_with_python_map)"
   ]
  },
  {
   "cell_type": "markdown",
   "metadata": {},
   "source": [
    "PyWren Executor's `map()` API is not much different, except now the passed function runs on a cloud service.\n",
    "\n",
    "***Exercise:*** Update the code below so the results with PyWren are same as above."
   ]
  },
  {
   "cell_type": "code",
   "execution_count": null,
   "metadata": {
    "collapsed": true
   },
   "outputs": [],
   "source": [
    "futures = pwex.map()\n",
    "results_with_pywren_map = [f.result() for f in futures]\n",
    "\n",
    "print (results_with_pywren_map)\n",
    "\n",
    "assert results_with_pywren_map == results_with_python_map"
   ]
  },
  {
   "cell_type": "markdown",
   "metadata": {},
   "source": [
    "One caveat above is that `result()` is run serially. This can be inefficient will a large number of parallel tasks. In PyWren, we provide a convenient API ***pywren.wait()*** to wait on all tasks to finish. For example: "
   ]
  },
  {
   "cell_type": "code",
   "execution_count": null,
   "metadata": {
    "collapsed": true
   },
   "outputs": [],
   "source": [
    "pywren.wait(futures)\n",
    "\n",
    "results_with_pywren_map = [f.result() for f in futures]\n",
    "\n",
    "assert results_with_pywren_map == results_with_python_map"
   ]
  },
  {
   "cell_type": "markdown",
   "metadata": {},
   "source": [
    "Because the tasks in the futures have been executed before, the above code should finish immediately.\n",
    "\n",
    "We also have ***pywren.get_all_results()***, which is just a convenient way to do `wait()` and fetch results all together."
   ]
  },
  {
   "cell_type": "code",
   "execution_count": null,
   "metadata": {
    "collapsed": true
   },
   "outputs": [],
   "source": [
    "results_with_pywren_map = pywren.get_all_results(futures)\n",
    "assert results_with_pywren_map == results_with_python_map"
   ]
  },
  {
   "cell_type": "markdown",
   "metadata": {},
   "source": [
    "## 3. multiple jobs\n",
    "\n",
    "Putting things together, we can use `map()` to execute a function over an itereable of parameters in paralle in cloud.\n",
    "Then we can call `pywren.get_all_results()` to fetch all results.\n",
    "Because `map()` returns immediately after all tasks are invocated, we can switch to other work before calling `pywren.get_all_results()` and being blocked. We could even invoke another PyWren job.\n",
    "\n",
    "In the exercise below, we want to verify the distributive law of matrix-vector multiplication, i.e. A(x+y) = Ax + Ay. To do that, we invoke two PyWren jobs, one computing 50 instances of A(x+y) and the other computing 50 instances of Ax + Ay. As we pass the same random seeds to the jobs, results returned by the two jobs should be same, according to the distributive law holds."
   ]
  },
  {
   "cell_type": "code",
   "execution_count": null,
   "metadata": {
    "collapsed": true
   },
   "outputs": [],
   "source": [
    "import numpy as np\n",
    "\n",
    "def multiply_1(seed):\n",
    "    np.random.seed(seed)\n",
    "    A = np.random.normal(0, 1, (1024, 131072))\n",
    "    x = np.random.normal(0, 1, 131072)\n",
    "    y = np.random.normal(0, 1, 131072)\n",
    "    return np.dot(A, x+y)\n",
    "\n",
    "def multiply_2(seed):\n",
    "    np.random.seed(seed)\n",
    "    A = np.random.normal(0, 1, (1024, 131072))\n",
    "    x = np.random.normal(0, 1, 131072)\n",
    "    y = np.random.normal(0, 1, 131072)\n",
    "    return np.dot(A, x) + np.dot(A, y)\n",
    "\n",
    "futures_1 = pwex.map(multiply_1, range(50))\n",
    "futures_2 = pwex.map(multiply_2, range(50))\n",
    "\n",
    "results_1 = pywren.get_all_results(futures_1)\n",
    "results_2 = pywren.get_all_results(futures_2)\n",
    "\n",
    "assert np.all(np.isclose(np.stack(results_1) , np.stack(results_2)))"
   ]
  },
  {
   "cell_type": "markdown",
   "metadata": {},
   "source": [
    "## 4. Visualization and Debugging\n",
    "You have probably been wondering where time is spent during a PyWren job. Here we provide a method to plot the execution graph of a PyWren job for you. Let's use the futures from the maxtrix multiplication exercise as an example."
   ]
  },
  {
   "cell_type": "code",
   "execution_count": null,
   "metadata": {
    "collapsed": true
   },
   "outputs": [],
   "source": [
    "# load the plotting method\n",
    "from training import plot_pywren_execution"
   ]
  },
  {
   "cell_type": "code",
   "execution_count": null,
   "metadata": {
    "collapsed": true
   },
   "outputs": [],
   "source": [
    "plot_pywren_execution(futures_1 + futures_2)"
   ]
  },
  {
   "cell_type": "markdown",
   "metadata": {},
   "source": [
    "You can see that the tasks are submitted in two batches. Each batch belongs to one PyWren job. You can also see that both jobs are indeed running in parallel! "
   ]
  },
  {
   "cell_type": "markdown",
   "metadata": {},
   "source": [
    "This concludes our introduction exercies. Now it is time to try out more challanges tasks with PyWren!"
   ]
  }
 ],
 "metadata": {
  "kernelspec": {
   "display_name": "Python 3",
   "language": "python",
   "name": "python3"
  },
  "language_info": {
   "codemirror_mode": {
    "name": "ipython",
    "version": 3
   },
   "file_extension": ".py",
   "mimetype": "text/x-python",
   "name": "python",
   "nbconvert_exporter": "python",
   "pygments_lexer": "ipython3",
   "version": "3.6.2"
  }
 },
 "nbformat": 4,
 "nbformat_minor": 2
}
